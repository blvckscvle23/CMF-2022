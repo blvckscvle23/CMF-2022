{
 "cells": [
  {
   "cell_type": "code",
   "execution_count": 19,
   "id": "2966b009",
   "metadata": {},
   "outputs": [],
   "source": [
    "import yfinance as yf\n",
    "import numpy as np\n",
    "import pandas as pd\n",
    "import matplotlib as mpl\n",
    "import matplotlib.pyplot as plt"
   ]
  },
  {
   "cell_type": "code",
   "execution_count": 20,
   "id": "2f0f6cd9",
   "metadata": {},
   "outputs": [
    {
     "name": "stdout",
     "output_type": "stream",
     "text": [
      "[*********************100%***********************]  1 of 1 completed\n"
     ]
    }
   ],
   "source": [
    "data = yf.download(\"SOL-USD\", start=\"2021-03-11\", end=\"2022-03-11\")#Download data from yahoo finance for Solana Coin"
   ]
  },
  {
   "cell_type": "code",
   "execution_count": 21,
   "id": "c5535b2c",
   "metadata": {
    "scrolled": true
   },
   "outputs": [
    {
     "data": {
      "text/html": [
       "<div>\n",
       "<style scoped>\n",
       "    .dataframe tbody tr th:only-of-type {\n",
       "        vertical-align: middle;\n",
       "    }\n",
       "\n",
       "    .dataframe tbody tr th {\n",
       "        vertical-align: top;\n",
       "    }\n",
       "\n",
       "    .dataframe thead th {\n",
       "        text-align: right;\n",
       "    }\n",
       "</style>\n",
       "<table border=\"1\" class=\"dataframe\">\n",
       "  <thead>\n",
       "    <tr style=\"text-align: right;\">\n",
       "      <th></th>\n",
       "      <th>Open</th>\n",
       "      <th>High</th>\n",
       "      <th>Low</th>\n",
       "      <th>Close</th>\n",
       "      <th>Adj Close</th>\n",
       "      <th>Volume</th>\n",
       "    </tr>\n",
       "    <tr>\n",
       "      <th>Date</th>\n",
       "      <th></th>\n",
       "      <th></th>\n",
       "      <th></th>\n",
       "      <th></th>\n",
       "      <th></th>\n",
       "      <th></th>\n",
       "    </tr>\n",
       "  </thead>\n",
       "  <tbody>\n",
       "    <tr>\n",
       "      <th>2021-03-11</th>\n",
       "      <td>14.219837</td>\n",
       "      <td>16.239399</td>\n",
       "      <td>13.704226</td>\n",
       "      <td>15.992279</td>\n",
       "      <td>15.992279</td>\n",
       "      <td>229272516</td>\n",
       "    </tr>\n",
       "    <tr>\n",
       "      <th>2021-03-12</th>\n",
       "      <td>16.020920</td>\n",
       "      <td>16.485796</td>\n",
       "      <td>14.111229</td>\n",
       "      <td>14.552142</td>\n",
       "      <td>14.552142</td>\n",
       "      <td>185287457</td>\n",
       "    </tr>\n",
       "    <tr>\n",
       "      <th>2021-03-13</th>\n",
       "      <td>14.563803</td>\n",
       "      <td>15.394398</td>\n",
       "      <td>13.920056</td>\n",
       "      <td>15.308803</td>\n",
       "      <td>15.308803</td>\n",
       "      <td>145102757</td>\n",
       "    </tr>\n",
       "    <tr>\n",
       "      <th>2021-03-14</th>\n",
       "      <td>15.301581</td>\n",
       "      <td>15.349832</td>\n",
       "      <td>14.378764</td>\n",
       "      <td>14.508266</td>\n",
       "      <td>14.508266</td>\n",
       "      <td>90232804</td>\n",
       "    </tr>\n",
       "    <tr>\n",
       "      <th>2021-03-15</th>\n",
       "      <td>14.477127</td>\n",
       "      <td>14.790473</td>\n",
       "      <td>13.698057</td>\n",
       "      <td>14.186662</td>\n",
       "      <td>14.186662</td>\n",
       "      <td>102600692</td>\n",
       "    </tr>\n",
       "  </tbody>\n",
       "</table>\n",
       "</div>"
      ],
      "text/plain": [
       "                 Open       High        Low      Close  Adj Close     Volume\n",
       "Date                                                                        \n",
       "2021-03-11  14.219837  16.239399  13.704226  15.992279  15.992279  229272516\n",
       "2021-03-12  16.020920  16.485796  14.111229  14.552142  14.552142  185287457\n",
       "2021-03-13  14.563803  15.394398  13.920056  15.308803  15.308803  145102757\n",
       "2021-03-14  15.301581  15.349832  14.378764  14.508266  14.508266   90232804\n",
       "2021-03-15  14.477127  14.790473  13.698057  14.186662  14.186662  102600692"
      ]
     },
     "execution_count": 21,
     "metadata": {},
     "output_type": "execute_result"
    }
   ],
   "source": [
    "data.head()"
   ]
  },
  {
   "cell_type": "code",
   "execution_count": 22,
   "id": "466c7bc7",
   "metadata": {},
   "outputs": [
    {
     "data": {
      "text/html": [
       "<div>\n",
       "<style scoped>\n",
       "    .dataframe tbody tr th:only-of-type {\n",
       "        vertical-align: middle;\n",
       "    }\n",
       "\n",
       "    .dataframe tbody tr th {\n",
       "        vertical-align: top;\n",
       "    }\n",
       "\n",
       "    .dataframe thead th {\n",
       "        text-align: right;\n",
       "    }\n",
       "</style>\n",
       "<table border=\"1\" class=\"dataframe\">\n",
       "  <thead>\n",
       "    <tr style=\"text-align: right;\">\n",
       "      <th></th>\n",
       "      <th>Open</th>\n",
       "      <th>High</th>\n",
       "      <th>Low</th>\n",
       "      <th>Close</th>\n",
       "      <th>Adj Close</th>\n",
       "      <th>Volume</th>\n",
       "    </tr>\n",
       "    <tr>\n",
       "      <th>Date</th>\n",
       "      <th></th>\n",
       "      <th></th>\n",
       "      <th></th>\n",
       "      <th></th>\n",
       "      <th></th>\n",
       "      <th></th>\n",
       "    </tr>\n",
       "  </thead>\n",
       "  <tbody>\n",
       "    <tr>\n",
       "      <th>2022-03-07</th>\n",
       "      <td>84.552872</td>\n",
       "      <td>86.483086</td>\n",
       "      <td>80.316849</td>\n",
       "      <td>82.130066</td>\n",
       "      <td>82.130066</td>\n",
       "      <td>2375648176</td>\n",
       "    </tr>\n",
       "    <tr>\n",
       "      <th>2022-03-08</th>\n",
       "      <td>82.112602</td>\n",
       "      <td>84.779900</td>\n",
       "      <td>81.540115</td>\n",
       "      <td>82.254761</td>\n",
       "      <td>82.254761</td>\n",
       "      <td>2112765959</td>\n",
       "    </tr>\n",
       "    <tr>\n",
       "      <th>2022-03-09</th>\n",
       "      <td>82.279922</td>\n",
       "      <td>89.482048</td>\n",
       "      <td>82.206238</td>\n",
       "      <td>88.202065</td>\n",
       "      <td>88.202065</td>\n",
       "      <td>2624860794</td>\n",
       "    </tr>\n",
       "    <tr>\n",
       "      <th>2022-03-10</th>\n",
       "      <td>88.190399</td>\n",
       "      <td>88.453949</td>\n",
       "      <td>81.019341</td>\n",
       "      <td>82.939087</td>\n",
       "      <td>82.939087</td>\n",
       "      <td>2196400279</td>\n",
       "    </tr>\n",
       "    <tr>\n",
       "      <th>2022-03-11</th>\n",
       "      <td>82.940742</td>\n",
       "      <td>84.050667</td>\n",
       "      <td>80.281235</td>\n",
       "      <td>80.744995</td>\n",
       "      <td>80.744995</td>\n",
       "      <td>1852734626</td>\n",
       "    </tr>\n",
       "  </tbody>\n",
       "</table>\n",
       "</div>"
      ],
      "text/plain": [
       "                 Open       High        Low      Close  Adj Close      Volume\n",
       "Date                                                                         \n",
       "2022-03-07  84.552872  86.483086  80.316849  82.130066  82.130066  2375648176\n",
       "2022-03-08  82.112602  84.779900  81.540115  82.254761  82.254761  2112765959\n",
       "2022-03-09  82.279922  89.482048  82.206238  88.202065  88.202065  2624860794\n",
       "2022-03-10  88.190399  88.453949  81.019341  82.939087  82.939087  2196400279\n",
       "2022-03-11  82.940742  84.050667  80.281235  80.744995  80.744995  1852734626"
      ]
     },
     "execution_count": 22,
     "metadata": {},
     "output_type": "execute_result"
    }
   ],
   "source": [
    "data.tail()"
   ]
  },
  {
   "cell_type": "code",
   "execution_count": 23,
   "id": "a81ee23d",
   "metadata": {},
   "outputs": [
    {
     "data": {
      "text/plain": [
       "Date\n",
       "2021-03-11    15.992279\n",
       "2021-03-12    14.552142\n",
       "2021-03-13    15.308803\n",
       "2021-03-14    14.508266\n",
       "2021-03-15    14.186662\n",
       "Name: Adj Close, dtype: float64"
      ]
     },
     "execution_count": 23,
     "metadata": {},
     "output_type": "execute_result"
    }
   ],
   "source": [
    "data['Adj Close'].head()"
   ]
  },
  {
   "cell_type": "code",
   "execution_count": 24,
   "id": "1a232040",
   "metadata": {},
   "outputs": [
    {
     "data": {
      "text/plain": [
       "array([<AxesSubplot:xlabel='Date'>], dtype=object)"
      ]
     },
     "execution_count": 24,
     "metadata": {},
     "output_type": "execute_result"
    },
    {
     "data": {
      "image/png": "[encoded data removed]",
      "text/plain": [
       "<Figure size 720x720 with 1 Axes>"
      ]
     },
     "metadata": {
      "needs_background": "light"
     },
     "output_type": "display_data"
    }
   ],
   "source": [
    "data['Adj Close'].plot(figsize=(10, 10), subplots=True)#Shows price movement for the last year"
   ]
  },
  {
   "cell_type": "code",
   "execution_count": 25,
   "id": "4aaa9d34",
   "metadata": {},
   "outputs": [
    {
     "data": {
      "text/plain": [
       "[-0.09005201227017279,\n",
       " 0.0519965001700305,\n",
       " -0.05229253889890779,\n",
       " -0.02216699905738637,\n",
       " -0.039747796974588176]"
      ]
     },
     "execution_count": 25,
     "metadata": {},
     "output_type": "execute_result"
    }
   ],
   "source": [
    "normal_return = []\n",
    "for i in range(0,len(data)-1):\n",
    "    adjclose_yesterday = data.iloc[i]['Adj Close']\n",
    "    adjclose_today = data.iloc[i+1]['Adj Close']\n",
    "    x = (adjclose_today - adjclose_yesterday) / adjclose_yesterday\n",
    "    normal_return.append(x)\n",
    "normal_return[:5]"
   ]
  },
  {
   "cell_type": "code",
   "execution_count": 26,
   "id": "fcd6f99d",
   "metadata": {},
   "outputs": [
    {
     "data": {
      "text/plain": [
       "[-0.09436783744557643,\n",
       " 0.05068978747541236,\n",
       " -0.05370940968576811,\n",
       " -0.022416379210130243,\n",
       " -0.04055931753807059]"
      ]
     },
     "execution_count": 26,
     "metadata": {},
     "output_type": "execute_result"
    }
   ],
   "source": [
    "log_return = []\n",
    "for i in range(0,len(data)-1):\n",
    "    adjclose_yesterday = data.iloc[i]['Adj Close']\n",
    "    adjclose_today = data.iloc[i+1]['Adj Close']\n",
    "    y = np.log(adjclose_today / adjclose_yesterday)\n",
    "    log_return.append(y)\n",
    "log_return[:5]"
   ]
  },
  {
   "cell_type": "code",
   "execution_count": 27,
   "id": "8a69bdae",
   "metadata": {},
   "outputs": [
    {
     "name": "stdout",
     "output_type": "stream",
     "text": [
      "The annulized normal return is 2.63884277 and its annulized volatility is 1.42868488\n"
     ]
    }
   ],
   "source": [
    "dfnr = pd.DataFrame(normal_return, columns = ['normal']) \n",
    "nr = dfnr.mean() * len(dfnr)\n",
    "nv = dfnr.std() * (len(dfnr) ** 0.5)\n",
    "print('The annulized normal return is %.8f and its annulized volatility is %.8f' % (nr,nv))"
   ]
  },
  {
   "cell_type": "code",
   "execution_count": 28,
   "id": "246d7efe",
   "metadata": {},
   "outputs": [
    {
     "data": {
      "image/png": "[encoded data removed]",
      "text/plain": [
       "<Figure size 432x288 with 1 Axes>"
      ]
     },
     "metadata": {
      "needs_background": "light"
     },
     "output_type": "display_data"
    }
   ],
   "source": [
    "fig = plt.figure()\n",
    "plt.plot(data['Close'])\n",
    "plt.xlabel('Days')\n",
    "plt.ylabel('Price ($)')\n",
    "plt.title('Closed Price');"
   ]
  },
  {
   "cell_type": "code",
   "execution_count": 29,
   "id": "e089f458",
   "metadata": {},
   "outputs": [],
   "source": [
    "import os"
   ]
  },
  {
   "cell_type": "code",
   "execution_count": 30,
   "id": "7a6993c4",
   "metadata": {},
   "outputs": [],
   "source": [
    "S0 = 81.07              # spot assest price as at 19:27 11/03/2022\n",
    "K = 105.0               # strike\n",
    "T = 1.0                 # maturity \n",
    "r = 0.0114                 # risk free rate \n",
    "sig = 1.43               # diffusion coefficient or volatility\n",
    "N = 3                   # number of periods or number of time steps  \n",
    "payoff = \"put\"          # payoff "
   ]
  },
  {
   "cell_type": "code",
   "execution_count": 31,
   "id": "2c8758f2",
   "metadata": {},
   "outputs": [],
   "source": [
    "dT = float(T) / N                             # Delta t\n",
    "u = np.exp(sig * np.sqrt(dT))                 # up factor\n",
    "d = 1.0 / u        "
   ]
  },
  {
   "cell_type": "code",
   "execution_count": 32,
   "id": "787d5caf",
   "metadata": {},
   "outputs": [],
   "source": [
    "S = np.zeros((N + 1, N + 1))\n",
    "S[0, 0] = S0\n",
    "z = 1\n",
    "for t in range(1, N + 1):\n",
    "    for i in range(z):\n",
    "        S[i, t] = S[i, t-1] * u\n",
    "        S[i+1, t] = S[i, t-1] * d\n",
    "    z += 1"
   ]
  },
  {
   "cell_type": "code",
   "execution_count": 33,
   "id": "5e144051",
   "metadata": {},
   "outputs": [
    {
     "data": {
      "text/plain": [
       "array([[ 81.07      , 185.10511704, 422.64591532, 965.016919  ],\n",
       "       [  0.        ,  35.50601412,  81.07      , 185.10511704],\n",
       "       [  0.        ,   0.        ,  15.55047538,  35.50601412],\n",
       "       [  0.        ,   0.        ,   0.        ,   6.8106007 ]])"
      ]
     },
     "execution_count": 33,
     "metadata": {},
     "output_type": "execute_result"
    }
   ],
   "source": [
    "S"
   ]
  },
  {
   "cell_type": "code",
   "execution_count": 34,
   "id": "75f5bc0e",
   "metadata": {},
   "outputs": [
    {
     "data": {
      "text/plain": [
       "0.30663711913500735"
      ]
     },
     "execution_count": 34,
     "metadata": {},
     "output_type": "execute_result"
    }
   ],
   "source": [
    "a = np.exp(r * dT)    # risk free compound return\n",
    "p = (a - d)/ (u - d)  # risk neutral up probability\n",
    "q = 1.0 - p           # risk neutral down probability\n",
    "p"
   ]
  },
  {
   "cell_type": "code",
   "execution_count": 35,
   "id": "ec9e8050",
   "metadata": {},
   "outputs": [
    {
     "data": {
      "text/plain": [
       "array([[ 0.        ,  0.        ,  0.        ,  0.        ],\n",
       "       [ 0.        ,  0.        ,  0.        ,  0.        ],\n",
       "       [ 0.        ,  0.        ,  0.        , 69.49398588],\n",
       "       [ 0.        ,  0.        ,  0.        , 98.1893993 ]])"
      ]
     },
     "execution_count": 35,
     "metadata": {},
     "output_type": "execute_result"
    }
   ],
   "source": [
    "S_T = S[:,-1]\n",
    "V = np.zeros((N + 1, N + 1))\n",
    "if payoff ==\"call\":\n",
    "    V[:,-1] = np.maximum(S_T-K, 0.0)\n",
    "elif payoff ==\"put\":\n",
    "    V[:,-1] = np.maximum(K-S_T, 0.0)\n",
    "V"
   ]
  },
  {
   "cell_type": "code",
   "execution_count": 36,
   "id": "04190609",
   "metadata": {},
   "outputs": [
    {
     "data": {
      "text/plain": [
       "array([[62.7443162 , 33.15642972,  0.        ,  0.        ],\n",
       "       [ 0.        , 76.17397406, 48.00179641,  0.        ],\n",
       "       [ 0.        ,  0.        , 89.05128176, 69.49398588],\n",
       "       [ 0.        ,  0.        ,  0.        , 98.1893993 ]])"
      ]
     },
     "execution_count": 36,
     "metadata": {},
     "output_type": "execute_result"
    }
   ],
   "source": [
    "# for European Option\n",
    "for j in range(N-1, -1, -1):\n",
    "    for i in range(j+1):\n",
    "        V[i,j] = np.exp(-r*dT) * (p * V[i,j + 1] + q * V[i + 1,j + 1])\n",
    "V"
   ]
  },
  {
   "cell_type": "code",
   "execution_count": 37,
   "id": "293da78f",
   "metadata": {},
   "outputs": [
    {
     "name": "stdout",
     "output_type": "stream",
     "text": [
      "European put 62.74431619990356\n"
     ]
    }
   ],
   "source": [
    "print('European ' + payoff, str( V[0,0]))"
   ]
  },
  {
   "cell_type": "code",
   "execution_count": 38,
   "id": "462b7f3c",
   "metadata": {},
   "outputs": [
    {
     "data": {
      "text/plain": [
       "array([[62.93432273, 33.15642972,  0.        ,  0.        ],\n",
       "       [ 0.        , 76.44905358, 48.00179641,  0.        ],\n",
       "       [ 0.        ,  0.        , 89.44952462, 69.49398588],\n",
       "       [ 0.        ,  0.        ,  0.        , 98.1893993 ]])"
      ]
     },
     "execution_count": 38,
     "metadata": {},
     "output_type": "execute_result"
    }
   ],
   "source": [
    "# for American Option\n",
    "if payoff ==\"call\":\n",
    "    for j in range(N-1, -1, -1):\n",
    "        for i in range(j+1):\n",
    "            V[i,j] = np.maximum(S[i,j] - K,np.exp(-r*dT) * (p * V[i,j + 1] + q * V[i + 1,j + 1]))\n",
    "elif payoff ==\"put\":\n",
    "    for j in range(N-1, -1, -1):\n",
    "        for i in range(j+1):\n",
    "            V[i,j] = np.maximum(K - S[i,j],np.exp(-r*dT) * (p * V[i,j + 1] + q * V[i + 1,j + 1]))\n",
    "V\n"
   ]
  },
  {
   "cell_type": "code",
   "execution_count": 39,
   "id": "7d87fa98",
   "metadata": {},
   "outputs": [
    {
     "name": "stdout",
     "output_type": "stream",
     "text": [
      "American put 62.93432273372345\n"
     ]
    }
   ],
   "source": [
    "print('American ' + payoff, str( V[0,0]))"
   ]
  },
  {
   "cell_type": "code",
   "execution_count": 40,
   "id": "bf9b135d",
   "metadata": {},
   "outputs": [],
   "source": [
    "def mcs_simulation_np(p):\n",
    "    M = p\n",
    "    I = p\n",
    "    dt = T / M \n",
    "    S = np.zeros((M + 1, I))\n",
    "    S[0] = S0 \n",
    "    rn = np.random.standard_normal(S.shape) \n",
    "    for t in range(1, M + 1): \n",
    "        S[t] = S[t-1] * np.exp((r - sigma ** 2 / 2) * dt + sigma * np.sqrt(dt) * rn[t]) \n",
    "    return S"
   ]
  },
  {
   "cell_type": "code",
   "execution_count": 41,
   "id": "6c481f10",
   "metadata": {},
   "outputs": [],
   "source": [
    "T = 1/52\n",
    "r = 0.0114\n",
    "sigma = 1.43 \n",
    "S0 = 81.07\n",
    "K = 105.0"
   ]
  },
  {
   "cell_type": "code",
   "execution_count": 42,
   "id": "b1d61613",
   "metadata": {},
   "outputs": [],
   "source": [
    "S = mcs_simulation_np(1000)"
   ]
  },
  {
   "cell_type": "code",
   "execution_count": 43,
   "id": "a81b27d3",
   "metadata": {},
   "outputs": [
    {
     "data": {
      "text/plain": [
       "array([[ 81.07      ,  81.8045378 ,  81.97979171, ...,  96.42626845,\n",
       "         96.52404278,  96.58654238],\n",
       "       [ 81.07      ,  80.88059864,  80.41443404, ...,  94.33486066,\n",
       "         94.63524756,  94.16850975],\n",
       "       [ 81.07      ,  81.13731657,  81.22331348, ..., 132.32442039,\n",
       "        133.32794487, 133.95012859],\n",
       "       ...,\n",
       "       [ 81.07      ,  80.78306321,  80.32167248, ...,  80.05525577,\n",
       "         79.90725539,  79.60897386],\n",
       "       [ 81.07      ,  80.25435571,  79.67800752, ...,  79.36499035,\n",
       "         80.10539527,  80.03322699],\n",
       "       [ 81.07      ,  81.06107869,  81.23623083, ...,  66.62471909,\n",
       "         66.6349812 ,  66.15482311]])"
      ]
     },
     "execution_count": 43,
     "metadata": {},
     "output_type": "execute_result"
    }
   ],
   "source": [
    "S = np.transpose(S)\n",
    "S"
   ]
  },
  {
   "cell_type": "code",
   "execution_count": 44,
   "id": "dc14eb0d",
   "metadata": {},
   "outputs": [
    {
     "data": {
      "text/plain": [
       "Text(0.5, 1.0, 'Frequency distribution of the simulated end-of-preiod values')"
      ]
     },
     "execution_count": 44,
     "metadata": {},
     "output_type": "execute_result"
    },
    {
     "data": {
      "image/png": "[encoded data removed]",
      "text/plain": [
       "<Figure size 432x288 with 1 Axes>"
      ]
     },
     "metadata": {
      "needs_background": "light"
     },
     "output_type": "display_data"
    }
   ],
   "source": [
    "import matplotlib.pyplot as plt\n",
    "n, bins, patches = plt.hist(x=S[:,-1], bins='auto', color='#b666d2',alpha=1, rwidth=2.5)\n",
    "\n",
    "plt.grid(axis='y', alpha=0.95)\n",
    "plt.xlabel('S_T')\n",
    "plt.ylabel('Frequency')\n",
    "plt.title('Frequency distribution of the simulated end-of-preiod values')"
   ]
  },
  {
   "cell_type": "code",
   "execution_count": 45,
   "id": "9b7c520f",
   "metadata": {},
   "outputs": [
    {
     "name": "stdout",
     "output_type": "stream",
     "text": [
      "European put 25.249087225954906\n"
     ]
    }
   ],
   "source": [
    "p = np.mean(np.maximum(K - S[:,-1],0))\n",
    "print('European put', str(p))"
   ]
  },
  {
   "cell_type": "code",
   "execution_count": 46,
   "id": "55aa80e4",
   "metadata": {},
   "outputs": [
    {
     "name": "stdout",
     "output_type": "stream",
     "text": [
      "European call 0.8374150864605828\n"
     ]
    }
   ],
   "source": [
    "c = np.mean(np.maximum(S[:,-1] - K,0))\n",
    "print('European call', str(c))"
   ]
  },
  {
   "cell_type": "code",
   "execution_count": null,
   "id": "5e61fa42",
   "metadata": {},
   "outputs": [],
   "source": []
  }
 ],
 "metadata": {
  "kernelspec": {
   "display_name": "Python 3 (ipykernel)",
   "language": "python",
   "name": "python3"
  },
  "language_info": {
   "codemirror_mode": {
    "name": "ipython",
    "version": 3
   },
   "file_extension": ".py",
   "mimetype": "text/x-python",
   "name": "python",
   "nbconvert_exporter": "python",
   "pygments_lexer": "ipython3",
   "version": "3.9.7"
  }
 },
 "nbformat": 4,
 "nbformat_minor": 5
}
