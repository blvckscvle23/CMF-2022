{
 "cells": [
  {
   "cell_type": "code",
   "execution_count": 105,
   "id": "a213a172",
   "metadata": {},
   "outputs": [],
   "source": [
    "import yfinance as yf\n",
    "import scipy.stats as si\n",
    "import pandas as pd\n",
    "import numpy as np\n",
    "import os"
   ]
  },
  {
   "cell_type": "code",
   "execution_count": 106,
   "id": "3d548613",
   "metadata": {},
   "outputs": [
    {
     "name": "stdout",
     "output_type": "stream",
     "text": [
      "[*********************100%***********************]  1 of 1 completed\n"
     ]
    }
   ],
   "source": [
    "TSLA = yf.download(\"TSLA\", start=\"2021-05-19\", end=\"2022-05-19\")"
   ]
  },
  {
   "cell_type": "code",
   "execution_count": 107,
   "id": "a5e26851",
   "metadata": {},
   "outputs": [],
   "source": [
    "def newton_vol_call(S, K, T, C, r):\n",
    "    \n",
    "    #S: spot price\n",
    "    #K: strike price\n",
    "    #T: time to maturity\n",
    "    #C: Call value\n",
    "    #r: risk free rate\n",
    "    #sigma: volatility of underlying asset\n",
    "   \n",
    "    MAX_ITERATIONS = 100\n",
    "    tolerance = 0.000001\n",
    "    \n",
    "    sigma = 1.25\n",
    "    \n",
    "    for i in range(0, MAX_ITERATIONS):\n",
    "        d1 = (np.log(S / K) + (r + 0.5 * sigma ** 2) * T) / (sigma * np.sqrt(T))\n",
    "        d2 = (np.log(S / K) + (r - 0.5 * sigma ** 2) * T) / (sigma * np.sqrt(T))\n",
    "        price = S * si.norm.cdf(d1, 0.0, 1.0) - K * np.exp(-r * T) * si.norm.cdf(d2, 0.0, 1.0)\n",
    "        vega = S * np.sqrt(T) * si.norm.pdf(d1, 0.0, 1.0)\n",
    "\n",
    "        diff = C - price\n",
    "\n",
    "        if (abs(diff) < tolerance):\n",
    "            return sigma\n",
    "        else: \n",
    "            sigma = sigma + diff/vega\n",
    "        \n",
    "        # print(i,sigma,diff)\n",
    "        \n",
    "    return sigma"
   ]
  },
  {
   "cell_type": "code",
   "execution_count": 108,
   "id": "a4f10608",
   "metadata": {},
   "outputs": [
    {
     "name": "stdout",
     "output_type": "stream",
     "text": [
      "The implied volatility is 160.83 % for the one-day call option with strike $ 1000.00\n"
     ]
    }
   ],
   "source": [
    "impvol = newton_vol_call(714.15, 1000.00, 1/252, 0.01, 0.02)\n",
    "print('The implied volatility is', round(impvol*100,2) , '% for the one-day call option with strike $ 1000.00' ) "
   ]
  },
  {
   "cell_type": "code",
   "execution_count": 109,
   "id": "7425c613",
   "metadata": {},
   "outputs": [
    {
     "name": "stdout",
     "output_type": "stream",
     "text": [
      "The annualised volatility is 57.51 %\n"
     ]
    }
   ],
   "source": [
    "log_return = np.log(TSLA['Adj Close'] / TSLA['Adj Close'].shift(1))\n",
    "vol_h = np.sqrt(252) * log_return.std()\n",
    "print('The annualised volatility is', round(vol_h*100,2), '%')"
   ]
  },
  {
   "cell_type": "code",
   "execution_count": 110,
   "id": "33040a56",
   "metadata": {},
   "outputs": [],
   "source": [
    "def euro_option_bs(S, K, T, r, vol, payoff):\n",
    "    \n",
    "    #S: spot price\n",
    "    #K: strike price\n",
    "    #T: time to maturity\n",
    "    #r: risk free rate\n",
    "    #vol: volatility of underlying asset\n",
    "    #payoff: call or put\n",
    "    \n",
    "    d1 = (np.log(S / K) + (r + 0.5 * vol ** 2) * T) / (vol * np.sqrt(T))\n",
    "    d2 = (np.log(S / K) + (r - 0.5 * vol ** 2) * T) / (vol * np.sqrt(T))\n",
    "    if payoff == \"call\":\n",
    "        option_value = S * si.norm.cdf(d1, 0.0, 1.0) - K * np.exp(-r * T) * si.norm.cdf(d2, 0.0, 1.0)\n",
    "    elif payoff == \"put\":\n",
    "        option_value = - S * si.norm.cdf(-d1, 0.0, 1.0) + K * np.exp(-r * T) * si.norm.cdf(-d2, 0.0, 1.0)\n",
    "    \n",
    "    return option_value"
   ]
  },
  {
   "cell_type": "code",
   "execution_count": 111,
   "id": "22becd30",
   "metadata": {},
   "outputs": [
    {
     "name": "stdout",
     "output_type": "stream",
     "text": [
      "The option price is $ 2.4693009830212118e-20\n"
     ]
    }
   ],
   "source": [
    "T = euro_option_bs(714.15, 1000, 1/252, 0.02, 0.5751, 'call') #Call option price using the annualised volatility\n",
    "print('The option price is $', T)"
   ]
  },
  {
   "cell_type": "code",
   "execution_count": 112,
   "id": "9c6d103a",
   "metadata": {},
   "outputs": [
    {
     "name": "stdout",
     "output_type": "stream",
     "text": [
      "The option price is $ 0.010001498707888745\n"
     ]
    }
   ],
   "source": [
    "T = euro_option_bs(714.15, 1000, 1/252, 0.02, 1.6083, 'call') #Call option price using the implied volatility\n",
    "print('The option price is $', T)"
   ]
  },
  {
   "cell_type": "code",
   "execution_count": 113,
   "id": "84610e81",
   "metadata": {},
   "outputs": [],
   "source": [
    "S0 = 25.0               # spot stock price\n",
    "K = 24.0                # strike\n",
    "T = 6/12                # maturity \n",
    "r = 0.05                 # risk free rate \n",
    "sig = 0.20               # diffusion coefficient or volatility\n",
    "N = 2                   # number of periods or number of time steps  \n",
    "payoff = \"call\"          # payoff "
   ]
  },
  {
   "cell_type": "code",
   "execution_count": 114,
   "id": "3e562188",
   "metadata": {},
   "outputs": [],
   "source": [
    "dT = float(T) / N                             # Delta t\n",
    "u = np.exp(sig * np.sqrt(dT))                 # up factor\n",
    "d = 1.0 / u                                   # down factor "
   ]
  },
  {
   "cell_type": "code",
   "execution_count": 115,
   "id": "3401323a",
   "metadata": {},
   "outputs": [],
   "source": [
    "S = np.zeros((N + 1, N + 1))\n",
    "S[0, 0] = S0\n",
    "z = 1\n",
    "for t in range(1, N + 1):\n",
    "    for i in range(z):\n",
    "        S[i, t] = S[i, t-1] * u\n",
    "        S[i+1, t] = S[i, t-1] * d\n",
    "    z += 1"
   ]
  },
  {
   "cell_type": "code",
   "execution_count": 116,
   "id": "8647612e",
   "metadata": {},
   "outputs": [
    {
     "data": {
      "text/plain": [
       "array([[25.        , 27.62927295, 30.53506895],\n",
       "       [ 0.        , 22.62093545, 25.        ],\n",
       "       [ 0.        ,  0.        , 20.46826883]])"
      ]
     },
     "execution_count": 116,
     "metadata": {},
     "output_type": "execute_result"
    }
   ],
   "source": [
    "S"
   ]
  },
  {
   "cell_type": "code",
   "execution_count": 117,
   "id": "7c77c75e",
   "metadata": {},
   "outputs": [
    {
     "data": {
      "text/plain": [
       "0.537808371956414"
      ]
     },
     "execution_count": 117,
     "metadata": {},
     "output_type": "execute_result"
    }
   ],
   "source": [
    "a = np.exp(r * dT)    # risk free compound return\n",
    "p = (a - d)/ (u - d)  # risk neutral up probability\n",
    "q = 1.0 - p           # risk neutral down probability\n",
    "p"
   ]
  },
  {
   "cell_type": "code",
   "execution_count": 118,
   "id": "fd9932cb",
   "metadata": {},
   "outputs": [
    {
     "data": {
      "text/plain": [
       "array([[0.        , 0.        , 6.53506895],\n",
       "       [0.        , 0.        , 1.        ],\n",
       "       [0.        , 0.        , 0.        ]])"
      ]
     },
     "execution_count": 118,
     "metadata": {},
     "output_type": "execute_result"
    }
   ],
   "source": [
    "S_T = S[:,-1]\n",
    "V = np.zeros((N + 1, N + 1))\n",
    "if payoff ==\"call\":\n",
    "    V[:,-1] = np.maximum(S_T-K, 0.0)\n",
    "elif payoff ==\"put\":\n",
    "    V[:,-1] = np.maximum(K-S_T, 0.0)\n",
    "V"
   ]
  },
  {
   "cell_type": "code",
   "execution_count": 119,
   "id": "5897e5c7",
   "metadata": {},
   "outputs": [
    {
     "data": {
      "text/plain": [
       "array([[2.32838692, 3.92740574, 6.53506895],\n",
       "       [0.        , 0.53112761, 1.        ],\n",
       "       [0.        , 0.        , 0.        ]])"
      ]
     },
     "execution_count": 119,
     "metadata": {},
     "output_type": "execute_result"
    }
   ],
   "source": [
    "# for European Option\n",
    "for j in range(N-1, -1, -1):\n",
    "    for i in range(j+1):\n",
    "        V[i,j] = np.exp(-r*dT) * (p * V[i,j + 1] + q * V[i + 1,j + 1])\n",
    "V"
   ]
  },
  {
   "cell_type": "code",
   "execution_count": 120,
   "id": "f4b40cc3",
   "metadata": {},
   "outputs": [
    {
     "name": "stdout",
     "output_type": "stream",
     "text": [
      "European call 2.3283869193612463\n"
     ]
    }
   ],
   "source": [
    "print('European ' + payoff, str( V[0,0]))"
   ]
  },
  {
   "cell_type": "code",
   "execution_count": 121,
   "id": "aaa191f2",
   "metadata": {},
   "outputs": [],
   "source": [
    "def euro_option_bsm(S, K, T, r, q, vol, payoff):\n",
    "    \n",
    "    #S: spot price\n",
    "    #K: strike price\n",
    "    #T: time to maturity\n",
    "    #r: risk free rate\n",
    "    #q: continuous dividend yield\n",
    "    #vol: volatility of underlying asset\n",
    "    #payoff: call or put\n",
    "    \n",
    "    d1 = (np.log(S / K) + (r - q + 0.5 * vol ** 2) * T) / (vol * np.sqrt(T))\n",
    "    d2 = (np.log(S / K) + (r - q - 0.5 * vol ** 2) * T) / (vol * np.sqrt(T))\n",
    "    if payoff == \"call\":\n",
    "        option_value = S * np.exp(-q * T) * si.norm.cdf(d1, 0.0, 1.0) - K * np.exp(-r * T) * si.norm.cdf(d2, 0.0, 1.0)\n",
    "    elif payoff == \"put\":\n",
    "        option_value =  - S * np.exp(-q * T) * si.norm.cdf(-d1, 0.0, 1.0) + K * np.exp(-r * T) * si.norm.cdf(-d2, 0.0, 1.0)\n",
    "    \n",
    "    return option_value"
   ]
  },
  {
   "cell_type": "code",
   "execution_count": 122,
   "id": "f12fb162",
   "metadata": {},
   "outputs": [
    {
     "data": {
      "text/plain": [
       "2.3055584059794327"
      ]
     },
     "execution_count": 122,
     "metadata": {},
     "output_type": "execute_result"
    }
   ],
   "source": [
    "euro_option_bsm(25, 24, 1/2, 0.05, 0, 0.20, 'call')"
   ]
  },
  {
   "cell_type": "code",
   "execution_count": null,
   "id": "57accfb7",
   "metadata": {},
   "outputs": [],
   "source": []
  }
 ],
 "metadata": {
  "kernelspec": {
   "display_name": "Python 3 (ipykernel)",
   "language": "python",
   "name": "python3"
  },
  "language_info": {
   "codemirror_mode": {
    "name": "ipython",
    "version": 3
   },
   "file_extension": ".py",
   "mimetype": "text/x-python",
   "name": "python",
   "nbconvert_exporter": "python",
   "pygments_lexer": "ipython3",
   "version": "3.9.7"
  }
 },
 "nbformat": 4,
 "nbformat_minor": 5
}
